{
    "cells": [
        {
            "metadata": {
                "collapsed": true
            },
            "cell_type": "markdown",
            "source": "# Description\nThis is a sample execution"
        },
        {
            "metadata": {},
            "cell_type": "code",
            "source": "\nimport types\nimport pandas as pd\nfrom botocore.client import Config\nimport ibm_boto3\n\ndef __iter__(self): return 0\n\n# @hidden_cell\n# The following code accesses a file in your IBM Cloud Object Storage. It includes your credentials.\n# You might want to remove those credentials before you share the notebook.\nclient_2c81ee7be1634d60ad748b033b7cea14 = ibm_boto3.client(service_name='s3',\n    ibm_api_key_id='AOnEL20uhZEs_Xfq0qRJMMF0C8T5zBP0xDNAHBkeHwId',\n    ibm_auth_endpoint=\"https://iam.cloud.ibm.com/oidc/token\",\n    config=Config(signature_version='oauth'),\n    endpoint_url='https://s3-api.us-geo.objectstorage.service.networklayer.com')\n\nbody = client_2c81ee7be1634d60ad748b033b7cea14.get_object(Bucket='watsonstudioprojectjupyternoteboo-donotdelete-pr-61yqlaxuhdh68g',Key='FL_insurance_sample.csv')['Body']\n# add missing __iter__ method, so pandas accepts body as file-like object\nif not hasattr(body, \"__iter__\"): body.__iter__ = types.MethodType( __iter__, body )\n\ndf_data_1 = pd.read_csv(body)\ndf_data_1.head()\n",
            "execution_count": 1,
            "outputs": [
                {
                    "output_type": "execute_result",
                    "execution_count": 1,
                    "data": {
                        "text/plain": "   policyID statecode       county  eq_site_limit  hu_site_limit  \\\n0    119736        FL  CLAY COUNTY       498960.0      498960.00   \n1    448094        FL  CLAY COUNTY      1322376.3     1322376.30   \n2    206893        FL  CLAY COUNTY       190724.4      190724.40   \n3    333743        FL  CLAY COUNTY            0.0       79520.76   \n4    172534        FL  CLAY COUNTY            0.0      254281.50   \n\n   fl_site_limit  fr_site_limit    tiv_2011    tiv_2012  eq_site_deductible  \\\n0       498960.0       498960.0   498960.00   792148.90                 0.0   \n1      1322376.3      1322376.3  1322376.30  1438163.57                 0.0   \n2       190724.4       190724.4   190724.40   192476.78                 0.0   \n3            0.0            0.0    79520.76    86854.48                 0.0   \n4            0.0       254281.5   254281.50   246144.49                 0.0   \n\n   hu_site_deductible  fl_site_deductible  fr_site_deductible  point_latitude  \\\n0              9979.2                 0.0                   0       30.102261   \n1                 0.0                 0.0                   0       30.063936   \n2                 0.0                 0.0                   0       30.089579   \n3                 0.0                 0.0                   0       30.063236   \n4                 0.0                 0.0                   0       30.060614   \n\n   point_longitude         line construction  point_granularity  \n0       -81.711777  Residential      Masonry                  1  \n1       -81.707664  Residential      Masonry                  3  \n2       -81.700455  Residential         Wood                  1  \n3       -81.707703  Residential         Wood                  3  \n4       -81.702675  Residential         Wood                  1  ",
                        "text/html": "<div>\n<style scoped>\n    .dataframe tbody tr th:only-of-type {\n        vertical-align: middle;\n    }\n\n    .dataframe tbody tr th {\n        vertical-align: top;\n    }\n\n    .dataframe thead th {\n        text-align: right;\n    }\n</style>\n<table border=\"1\" class=\"dataframe\">\n  <thead>\n    <tr style=\"text-align: right;\">\n      <th></th>\n      <th>policyID</th>\n      <th>statecode</th>\n      <th>county</th>\n      <th>eq_site_limit</th>\n      <th>hu_site_limit</th>\n      <th>fl_site_limit</th>\n      <th>fr_site_limit</th>\n      <th>tiv_2011</th>\n      <th>tiv_2012</th>\n      <th>eq_site_deductible</th>\n      <th>hu_site_deductible</th>\n      <th>fl_site_deductible</th>\n      <th>fr_site_deductible</th>\n      <th>point_latitude</th>\n      <th>point_longitude</th>\n      <th>line</th>\n      <th>construction</th>\n      <th>point_granularity</th>\n    </tr>\n  </thead>\n  <tbody>\n    <tr>\n      <th>0</th>\n      <td>119736</td>\n      <td>FL</td>\n      <td>CLAY COUNTY</td>\n      <td>498960.0</td>\n      <td>498960.00</td>\n      <td>498960.0</td>\n      <td>498960.0</td>\n      <td>498960.00</td>\n      <td>792148.90</td>\n      <td>0.0</td>\n      <td>9979.2</td>\n      <td>0.0</td>\n      <td>0</td>\n      <td>30.102261</td>\n      <td>-81.711777</td>\n      <td>Residential</td>\n      <td>Masonry</td>\n      <td>1</td>\n    </tr>\n    <tr>\n      <th>1</th>\n      <td>448094</td>\n      <td>FL</td>\n      <td>CLAY COUNTY</td>\n      <td>1322376.3</td>\n      <td>1322376.30</td>\n      <td>1322376.3</td>\n      <td>1322376.3</td>\n      <td>1322376.30</td>\n      <td>1438163.57</td>\n      <td>0.0</td>\n      <td>0.0</td>\n      <td>0.0</td>\n      <td>0</td>\n      <td>30.063936</td>\n      <td>-81.707664</td>\n      <td>Residential</td>\n      <td>Masonry</td>\n      <td>3</td>\n    </tr>\n    <tr>\n      <th>2</th>\n      <td>206893</td>\n      <td>FL</td>\n      <td>CLAY COUNTY</td>\n      <td>190724.4</td>\n      <td>190724.40</td>\n      <td>190724.4</td>\n      <td>190724.4</td>\n      <td>190724.40</td>\n      <td>192476.78</td>\n      <td>0.0</td>\n      <td>0.0</td>\n      <td>0.0</td>\n      <td>0</td>\n      <td>30.089579</td>\n      <td>-81.700455</td>\n      <td>Residential</td>\n      <td>Wood</td>\n      <td>1</td>\n    </tr>\n    <tr>\n      <th>3</th>\n      <td>333743</td>\n      <td>FL</td>\n      <td>CLAY COUNTY</td>\n      <td>0.0</td>\n      <td>79520.76</td>\n      <td>0.0</td>\n      <td>0.0</td>\n      <td>79520.76</td>\n      <td>86854.48</td>\n      <td>0.0</td>\n      <td>0.0</td>\n      <td>0.0</td>\n      <td>0</td>\n      <td>30.063236</td>\n      <td>-81.707703</td>\n      <td>Residential</td>\n      <td>Wood</td>\n      <td>3</td>\n    </tr>\n    <tr>\n      <th>4</th>\n      <td>172534</td>\n      <td>FL</td>\n      <td>CLAY COUNTY</td>\n      <td>0.0</td>\n      <td>254281.50</td>\n      <td>0.0</td>\n      <td>254281.5</td>\n      <td>254281.50</td>\n      <td>246144.49</td>\n      <td>0.0</td>\n      <td>0.0</td>\n      <td>0.0</td>\n      <td>0</td>\n      <td>30.060614</td>\n      <td>-81.702675</td>\n      <td>Residential</td>\n      <td>Wood</td>\n      <td>1</td>\n    </tr>\n  </tbody>\n</table>\n</div>"
                    },
                    "metadata": {}
                }
            ]
        },
        {
            "metadata": {},
            "cell_type": "code",
            "source": "",
            "execution_count": null,
            "outputs": []
        }
    ],
    "metadata": {
        "kernelspec": {
            "name": "python3",
            "display_name": "Python 3.6",
            "language": "python"
        },
        "language_info": {
            "name": "python",
            "version": "3.6.9",
            "mimetype": "text/x-python",
            "codemirror_mode": {
                "name": "ipython",
                "version": 3
            },
            "pygments_lexer": "ipython3",
            "nbconvert_exporter": "python",
            "file_extension": ".py"
        }
    },
    "nbformat": 4,
    "nbformat_minor": 1
}